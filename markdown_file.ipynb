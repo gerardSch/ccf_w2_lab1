# Practice Markdown

## test visuatlisation of Python code

''' Python
print("hello world")

'''

## 
