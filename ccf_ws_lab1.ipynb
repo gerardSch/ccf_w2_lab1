{
  "nbformat": 4,
  "nbformat_minor": 0,
  "metadata": {
    "colab": {
      "provenance": [],
      "authorship_tag": "ABX9TyPYnjxeTKJuwpqVDZSco/XZ",
      "include_colab_link": true
    },
    "kernelspec": {
      "name": "python3",
      "display_name": "Python 3"
    },
    "language_info": {
      "name": "python"
    }
  },
  "cells": [
    {
      "cell_type": "markdown",
      "metadata": {
        "id": "view-in-github",
        "colab_type": "text"
      },
      "source": [
        "<a href=\"https://colab.research.google.com/github/gerardSch/ccf_w2_lab1/blob/main/ccf_ws_lab1.ipynb\" target=\"_parent\"><img src=\"https://colab.research.google.com/assets/colab-badge.svg\" alt=\"Open In Colab\"/></a>"
      ]
    },
    {
      "cell_type": "markdown",
      "source": [
        "# ccf_w2_lab1\n",
        "This is the first lab exercise for \"Cloud Computing Fondatmentation\" course\n",
        "\n",
        "## Hello World example in Python\n",
        "this is a short example for a Hello World snipped"
      ],
      "metadata": {
        "id": "mSfbGQ-kE2Hv"
      }
    },
    {
      "cell_type": "code",
      "execution_count": 1,
      "metadata": {
        "colab": {
          "base_uri": "https://localhost:8080/"
        },
        "id": "r5tawj93ELL3",
        "outputId": "46426135-3895-4384-a882-7fe03b5dcfd1"
      },
      "outputs": [
        {
          "output_type": "stream",
          "name": "stdout",
          "text": [
            "Hello World\n"
          ]
        }
      ],
      "source": [
        "def hello():\n",
        "  print(\"Hello World\")\n",
        "hello()"
      ]
    }
  ]
}